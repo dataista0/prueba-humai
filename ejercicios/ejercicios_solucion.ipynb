{
 "cells": [
  {
   "cell_type": "markdown",
   "id": "10da208c",
   "metadata": {},
   "source": [
    "<div align=\"center\">\n",
    "<a href=\"https://colab.research.google.com/github/dataista0/prueba-humai/blob/main/ejercicios/ejercicios_solucion.ipynb\"> <img src='https://colab.research.google.com/assets/colab-badge.svg' /> </a>\n",
    " Recordá abrir en una nueva pestaña </div>\n",
    "\n",
    "\n",
    "<div align=\"center\">\n",
    "<a href=\"https://colab.research.google.com/github/institutohumai/cursos-python/blob/master/MachineLearning/8_ShapyAnomalias/ejercicios/ejercicios_solucion.ipynb\"> <img src='https://colab.research.google.com/assets/colab-badge.svg' /> </a>\n",
    " Recordá abrir en una nueva pestaña </div>\n",
    " \n",
    " "
   ]
  },
  {
   "cell_type": "markdown",
   "id": "0631fcc2",
   "metadata": {},
   "source": [
    "# Detección de anomalías\n",
    "\n",
    "En ciencia de datos, la *detección de anomalías* es la identificación de observaciones raras, que se desvían significativamente de la \"normalidad\" definida en un conjunto de datos. \n",
    "\n",
    "![](https://i.imgur.com/vTIXxm8m.jpg)\n",
    "\n",
    "\n",
    "Entendida como **un paso en el análisis exploratorio de datos o EDA**, podemos buscar anomalías considerándolas ruido en los datos que puede ensuciar la muestra y deteriorar la capacidad de un clasificador o un regresor. En estos escenarios hablamos de detección y limpieza de _outliers_. En la clase teórica y la notebook asociada podrán ver técnicas relacionadas con esto como las Tukey's fences.\n",
    "\n",
    "Pero la detección de anomalías es a veces también **un fin en sí misma**. En estos casos, no consideramos \"ruido\" a los datos atípicos ni buscamos desecharlos: al contrario, identificarlos resulta del mayor valor. Por ejemplo, en un entorno médico podría ser de interés detectar muestras de sangre o imágenes anómalas. Otro ejemplo podría ser los sensores de una turbina de un avión: la detección de una anomalía podría ser de enorme relevancia en estos casos.\n",
    "\n",
    "Si bien existen otros enfoques, la detección de anomalías suele encararse como un problema de **Aprendizaje Automático No-Supervisado**. En este enfoque, se ajusta un modelo a los datos, pero no hay etiquetas `y`, solamente la `X`. Esto se debe a que, por definición, las anomalías son escasas y no es fácil conseguir un dataset con muchas de ellas. \n",
    "\n",
    "\n",
    "Existen diferentes formas de ajustar modelos. Podemos pensar que se busca construir una cierta idea de \"normalidad\" a partir de los datos para, desde esa idea, identificar los datos que se apartan de ella como \"anomalías\".\n"
   ]
  },
  {
   "cell_type": "markdown",
   "id": "844d846b",
   "metadata": {},
   "source": [
    "# Detección de anomalías en un dataset de cáncer de mama\n",
    "\n",
    "Vamos a usar un dataset público de mamografías bajado de [ODDS](http://odds.cs.stonybrook.edu/mammography-dataset/). Este consiste de `11183` mamografías con `6` caracteristicas (anonimizadas). De estas, solo `260` corresponden a tumores malignos.\n",
    "\n",
    "Entrenaremos un modelo de detección de anomalías sin considerar la etiqueta y veremos cuán bien funciona esta detección de anomalías para identificar tumores malignos."
   ]
  },
  {
   "cell_type": "code",
   "execution_count": 1,
   "id": "cc0a39ff",
   "metadata": {},
   "outputs": [],
   "source": [
    "# Importamos las librerías relevantes\n",
    "import numpy as np\n",
    "import pandas as pd\n",
    "import warnings; warnings.simplefilter('ignore')\n",
    "\n",
    "from sklearn.ensemble import IsolationForest\n",
    "from sklearn.model_selection import train_test_split\n",
    "from sklearn.metrics import confusion_matrix, classification_report, recall_score"
   ]
  },
  {
   "cell_type": "code",
   "execution_count": 2,
   "id": "902524d0",
   "metadata": {},
   "outputs": [],
   "source": [
    "try:\n",
    "    df = pd.read_csv(\"odds-mammografia-cancer-de-mama.csv\")\n",
    "except:\n",
    "    df = pd.read_csv(\"https://unket.s3.sa-east-1.amazonaws.com/data/odds-mammografia-cancer-de-mama.csv\")\n",
    "    df.to_csv(\"odds-mammografia-cancer-de-mama.csv\", index=False)"
   ]
  },
  {
   "cell_type": "code",
   "execution_count": 3,
   "id": "4eb1ce37",
   "metadata": {},
   "outputs": [
    {
     "name": "stdout",
     "output_type": "stream",
     "text": [
      "(11183, 7)\n"
     ]
    },
    {
     "data": {
      "text/html": [
       "<div>\n",
       "<style scoped>\n",
       "    .dataframe tbody tr th:only-of-type {\n",
       "        vertical-align: middle;\n",
       "    }\n",
       "\n",
       "    .dataframe tbody tr th {\n",
       "        vertical-align: top;\n",
       "    }\n",
       "\n",
       "    .dataframe thead th {\n",
       "        text-align: right;\n",
       "    }\n",
       "</style>\n",
       "<table border=\"1\" class=\"dataframe\">\n",
       "  <thead>\n",
       "    <tr style=\"text-align: right;\">\n",
       "      <th></th>\n",
       "      <th>attr_0</th>\n",
       "      <th>attr_1</th>\n",
       "      <th>attr_2</th>\n",
       "      <th>attr_3</th>\n",
       "      <th>attr_4</th>\n",
       "      <th>attr_5</th>\n",
       "      <th>es_cancer</th>\n",
       "    </tr>\n",
       "  </thead>\n",
       "  <tbody>\n",
       "    <tr>\n",
       "      <th>0</th>\n",
       "      <td>0.230020</td>\n",
       "      <td>5.072578</td>\n",
       "      <td>-0.276061</td>\n",
       "      <td>0.832444</td>\n",
       "      <td>-0.377866</td>\n",
       "      <td>0.480322</td>\n",
       "      <td>0</td>\n",
       "    </tr>\n",
       "    <tr>\n",
       "      <th>1</th>\n",
       "      <td>0.155491</td>\n",
       "      <td>-0.169390</td>\n",
       "      <td>0.670652</td>\n",
       "      <td>-0.859553</td>\n",
       "      <td>-0.377866</td>\n",
       "      <td>-0.945723</td>\n",
       "      <td>0</td>\n",
       "    </tr>\n",
       "    <tr>\n",
       "      <th>2</th>\n",
       "      <td>-0.784415</td>\n",
       "      <td>-0.443654</td>\n",
       "      <td>5.674705</td>\n",
       "      <td>-0.859553</td>\n",
       "      <td>-0.377866</td>\n",
       "      <td>-0.945723</td>\n",
       "      <td>0</td>\n",
       "    </tr>\n",
       "    <tr>\n",
       "      <th>3</th>\n",
       "      <td>0.546088</td>\n",
       "      <td>0.131415</td>\n",
       "      <td>-0.456387</td>\n",
       "      <td>-0.859553</td>\n",
       "      <td>-0.377866</td>\n",
       "      <td>-0.945723</td>\n",
       "      <td>0</td>\n",
       "    </tr>\n",
       "    <tr>\n",
       "      <th>4</th>\n",
       "      <td>-0.102987</td>\n",
       "      <td>-0.394994</td>\n",
       "      <td>-0.140816</td>\n",
       "      <td>0.979703</td>\n",
       "      <td>-0.377866</td>\n",
       "      <td>1.013566</td>\n",
       "      <td>0</td>\n",
       "    </tr>\n",
       "  </tbody>\n",
       "</table>\n",
       "</div>"
      ],
      "text/plain": [
       "     attr_0    attr_1    attr_2    attr_3    attr_4    attr_5  es_cancer\n",
       "0  0.230020  5.072578 -0.276061  0.832444 -0.377866  0.480322          0\n",
       "1  0.155491 -0.169390  0.670652 -0.859553 -0.377866 -0.945723          0\n",
       "2 -0.784415 -0.443654  5.674705 -0.859553 -0.377866 -0.945723          0\n",
       "3  0.546088  0.131415 -0.456387 -0.859553 -0.377866 -0.945723          0\n",
       "4 -0.102987 -0.394994 -0.140816  0.979703 -0.377866  1.013566          0"
      ]
     },
     "execution_count": 3,
     "metadata": {},
     "output_type": "execute_result"
    }
   ],
   "source": [
    "# 6 features anonimizados\n",
    "print(df.shape)\n",
    "df.head()"
   ]
  },
  {
   "cell_type": "code",
   "execution_count": 4,
   "id": "33c56c7b",
   "metadata": {},
   "outputs": [
    {
     "data": {
      "text/plain": [
       "0    10923\n",
       "1      260\n",
       "Name: es_cancer, dtype: int64"
      ]
     },
     "execution_count": 4,
     "metadata": {},
     "output_type": "execute_result"
    }
   ],
   "source": [
    "# Solo 260 datos son tumores malignos\n",
    "df['es_cancer'].value_counts()"
   ]
  },
  {
   "cell_type": "code",
   "execution_count": 5,
   "id": "8bc342f4",
   "metadata": {},
   "outputs": [
    {
     "data": {
      "text/plain": [
       "0    0.97675\n",
       "1    0.02325\n",
       "Name: es_cancer, dtype: float64"
      ]
     },
     "execution_count": 5,
     "metadata": {},
     "output_type": "execute_result"
    }
   ],
   "source": [
    "# Corresponde al 2.3% de los datos\n",
    "df['es_cancer'].value_counts(normalize=True)"
   ]
  },
  {
   "cell_type": "markdown",
   "id": "d82e80f2",
   "metadata": {},
   "source": [
    "## Entrenamos un modelo [`IsolationForest`](https://scikit-learn.org/stable/modules/generated/sklearn.ensemble.IsolationForest.html#sklearn.ensemble.IsolationForest)\n",
    "\n",
    "Isolation Forest es un algoritmo de detección de anomalias. Este se basa en construir un árbol de decisión sobre los datos (varios, en realidad) y medir cuantos cortes fueron necesarios para _aislar_ un punto (de ahí su nombre). \n",
    "Esta técnica se diferencia de la mayoría de los modelos de detección de anomalías que construyen una representación de \"normalidad\" para luego ver cuánto se aparta un punto de esta.\n",
    "\n",
    "<img src='https://i.imgur.com/LkIceyM.png' style=\"width:800px;height:300px\">"
   ]
  },
  {
   "cell_type": "markdown",
   "id": "d5f9be8d",
   "metadata": {},
   "source": [
    "Separemos el set de datos en datos de entrenamiento y validación de la forma usual:"
   ]
  },
  {
   "cell_type": "code",
   "execution_count": 6,
   "id": "a7af0386",
   "metadata": {},
   "outputs": [],
   "source": [
    "X, y = df.drop('es_cancer',axis=1), df['es_cancer']"
   ]
  },
  {
   "cell_type": "code",
   "execution_count": 7,
   "id": "1db3317d",
   "metadata": {},
   "outputs": [
    {
     "data": {
      "text/plain": [
       "0.023250268272326218"
      ]
     },
     "execution_count": 7,
     "metadata": {},
     "output_type": "execute_result"
    }
   ],
   "source": [
    "X_train, X_test, y_train, y_test = train_test_split(X, y, stratify=y, random_state=1)\n",
    "contamination = y_train.value_counts(normalize=True)[1]\n",
    "contamination"
   ]
  },
  {
   "cell_type": "code",
   "execution_count": 8,
   "id": "a5a27b21",
   "metadata": {},
   "outputs": [
    {
     "data": {
      "text/plain": [
       "0    2731\n",
       "1      65\n",
       "Name: es_cancer, dtype: int64"
      ]
     },
     "execution_count": 8,
     "metadata": {},
     "output_type": "execute_result"
    }
   ],
   "source": [
    "y_test.value_counts()"
   ]
  },
  {
   "cell_type": "code",
   "execution_count": 9,
   "id": "4bf560df",
   "metadata": {},
   "outputs": [],
   "source": [
    "model = IsolationForest(contamination='auto', random_state=1)"
   ]
  },
  {
   "cell_type": "code",
   "execution_count": 10,
   "id": "e67ade04",
   "metadata": {},
   "outputs": [
    {
     "data": {
      "text/html": [
       "<style>#sk-container-id-1 {color: black;background-color: white;}#sk-container-id-1 pre{padding: 0;}#sk-container-id-1 div.sk-toggleable {background-color: white;}#sk-container-id-1 label.sk-toggleable__label {cursor: pointer;display: block;width: 100%;margin-bottom: 0;padding: 0.3em;box-sizing: border-box;text-align: center;}#sk-container-id-1 label.sk-toggleable__label-arrow:before {content: \"▸\";float: left;margin-right: 0.25em;color: #696969;}#sk-container-id-1 label.sk-toggleable__label-arrow:hover:before {color: black;}#sk-container-id-1 div.sk-estimator:hover label.sk-toggleable__label-arrow:before {color: black;}#sk-container-id-1 div.sk-toggleable__content {max-height: 0;max-width: 0;overflow: hidden;text-align: left;background-color: #f0f8ff;}#sk-container-id-1 div.sk-toggleable__content pre {margin: 0.2em;color: black;border-radius: 0.25em;background-color: #f0f8ff;}#sk-container-id-1 input.sk-toggleable__control:checked~div.sk-toggleable__content {max-height: 200px;max-width: 100%;overflow: auto;}#sk-container-id-1 input.sk-toggleable__control:checked~label.sk-toggleable__label-arrow:before {content: \"▾\";}#sk-container-id-1 div.sk-estimator input.sk-toggleable__control:checked~label.sk-toggleable__label {background-color: #d4ebff;}#sk-container-id-1 div.sk-label input.sk-toggleable__control:checked~label.sk-toggleable__label {background-color: #d4ebff;}#sk-container-id-1 input.sk-hidden--visually {border: 0;clip: rect(1px 1px 1px 1px);clip: rect(1px, 1px, 1px, 1px);height: 1px;margin: -1px;overflow: hidden;padding: 0;position: absolute;width: 1px;}#sk-container-id-1 div.sk-estimator {font-family: monospace;background-color: #f0f8ff;border: 1px dotted black;border-radius: 0.25em;box-sizing: border-box;margin-bottom: 0.5em;}#sk-container-id-1 div.sk-estimator:hover {background-color: #d4ebff;}#sk-container-id-1 div.sk-parallel-item::after {content: \"\";width: 100%;border-bottom: 1px solid gray;flex-grow: 1;}#sk-container-id-1 div.sk-label:hover label.sk-toggleable__label {background-color: #d4ebff;}#sk-container-id-1 div.sk-serial::before {content: \"\";position: absolute;border-left: 1px solid gray;box-sizing: border-box;top: 0;bottom: 0;left: 50%;z-index: 0;}#sk-container-id-1 div.sk-serial {display: flex;flex-direction: column;align-items: center;background-color: white;padding-right: 0.2em;padding-left: 0.2em;position: relative;}#sk-container-id-1 div.sk-item {position: relative;z-index: 1;}#sk-container-id-1 div.sk-parallel {display: flex;align-items: stretch;justify-content: center;background-color: white;position: relative;}#sk-container-id-1 div.sk-item::before, #sk-container-id-1 div.sk-parallel-item::before {content: \"\";position: absolute;border-left: 1px solid gray;box-sizing: border-box;top: 0;bottom: 0;left: 50%;z-index: -1;}#sk-container-id-1 div.sk-parallel-item {display: flex;flex-direction: column;z-index: 1;position: relative;background-color: white;}#sk-container-id-1 div.sk-parallel-item:first-child::after {align-self: flex-end;width: 50%;}#sk-container-id-1 div.sk-parallel-item:last-child::after {align-self: flex-start;width: 50%;}#sk-container-id-1 div.sk-parallel-item:only-child::after {width: 0;}#sk-container-id-1 div.sk-dashed-wrapped {border: 1px dashed gray;margin: 0 0.4em 0.5em 0.4em;box-sizing: border-box;padding-bottom: 0.4em;background-color: white;}#sk-container-id-1 div.sk-label label {font-family: monospace;font-weight: bold;display: inline-block;line-height: 1.2em;}#sk-container-id-1 div.sk-label-container {text-align: center;}#sk-container-id-1 div.sk-container {/* jupyter's `normalize.less` sets `[hidden] { display: none; }` but bootstrap.min.css set `[hidden] { display: none !important; }` so we also need the `!important` here to be able to override the default hidden behavior on the sphinx rendered scikit-learn.org. See: https://github.com/scikit-learn/scikit-learn/issues/21755 */display: inline-block !important;position: relative;}#sk-container-id-1 div.sk-text-repr-fallback {display: none;}</style><div id=\"sk-container-id-1\" class=\"sk-top-container\"><div class=\"sk-text-repr-fallback\"><pre>IsolationForest(random_state=1)</pre><b>In a Jupyter environment, please rerun this cell to show the HTML representation or trust the notebook. <br />On GitHub, the HTML representation is unable to render, please try loading this page with nbviewer.org.</b></div><div class=\"sk-container\" hidden><div class=\"sk-item\"><div class=\"sk-estimator sk-toggleable\"><input class=\"sk-toggleable__control sk-hidden--visually\" id=\"sk-estimator-id-1\" type=\"checkbox\" checked><label for=\"sk-estimator-id-1\" class=\"sk-toggleable__label sk-toggleable__label-arrow\">IsolationForest</label><div class=\"sk-toggleable__content\"><pre>IsolationForest(random_state=1)</pre></div></div></div></div></div>"
      ],
      "text/plain": [
       "IsolationForest(random_state=1)"
      ]
     },
     "execution_count": 10,
     "metadata": {},
     "output_type": "execute_result"
    }
   ],
   "source": [
    "# El método fit no usa y_train!! Está aprendiendo a detectar anomalías, no etiquetas o clases\n",
    "model.fit(X_train)"
   ]
  },
  {
   "cell_type": "markdown",
   "id": "1336cb6a",
   "metadata": {},
   "source": [
    "El método `predict` de un modelo de detección de anomalías retorna `1` (outlier) o `-1` (normal):\n",
    "\n",
    "```python\n",
    "Signature: model.predict(X)\n",
    "Docstring:\n",
    "Predict if a particular sample is an outlier or not.\n",
    "\n",
    "Parameters\n",
    "----------\n",
    "X : {array-like, sparse matrix} of shape (n_samples, n_features)\n",
    "    The input samples. Internally, it will be converted to\n",
    "    ``dtype=np.float32`` and if a sparse matrix is provided\n",
    "    to a sparse ``csr_matrix``.\n",
    "\n",
    "Returns\n",
    "-------\n",
    "is_inlier : ndarray of shape (n_samples,)\n",
    "    For each observation, tells whether or not (+1 or -1) it should\n",
    "    be considered as an inlier according to the fitted model.\n",
    "```"
   ]
  },
  {
   "cell_type": "code",
   "execution_count": 11,
   "id": "3f863f46",
   "metadata": {},
   "outputs": [],
   "source": [
    "y_pred = model.predict(X_test)\n",
    "y_pred = [1 if y == -1 else 0 for y in y_pred]"
   ]
  },
  {
   "cell_type": "markdown",
   "id": "17ea6d5d",
   "metadata": {},
   "source": [
    "Veamos la matriz de confusión y el reporte de clasificación para este detector:"
   ]
  },
  {
   "cell_type": "code",
   "execution_count": 12,
   "id": "5c2fadae",
   "metadata": {},
   "outputs": [
    {
     "data": {
      "text/html": [
       "<div>\n",
       "<style scoped>\n",
       "    .dataframe tbody tr th:only-of-type {\n",
       "        vertical-align: middle;\n",
       "    }\n",
       "\n",
       "    .dataframe tbody tr th {\n",
       "        vertical-align: top;\n",
       "    }\n",
       "\n",
       "    .dataframe thead th {\n",
       "        text-align: right;\n",
       "    }\n",
       "</style>\n",
       "<table border=\"1\" class=\"dataframe\">\n",
       "  <thead>\n",
       "    <tr style=\"text-align: right;\">\n",
       "      <th></th>\n",
       "      <th>Pred=Sano</th>\n",
       "      <th>Pred=Cancer</th>\n",
       "    </tr>\n",
       "  </thead>\n",
       "  <tbody>\n",
       "    <tr>\n",
       "      <th>Actual=Sano</th>\n",
       "      <td>2401</td>\n",
       "      <td>330</td>\n",
       "    </tr>\n",
       "    <tr>\n",
       "      <th>Actual=Cancer</th>\n",
       "      <td>22</td>\n",
       "      <td>43</td>\n",
       "    </tr>\n",
       "  </tbody>\n",
       "</table>\n",
       "</div>"
      ],
      "text/plain": [
       "               Pred=Sano  Pred=Cancer\n",
       "Actual=Sano         2401          330\n",
       "Actual=Cancer         22           43"
      ]
     },
     "execution_count": 12,
     "metadata": {},
     "output_type": "execute_result"
    }
   ],
   "source": [
    "cm = confusion_matrix(y_test, y_pred)\n",
    "cm = pd.DataFrame(cm, columns=['Pred=Sano', 'Pred=Cancer'], index=['Actual=Sano', 'Actual=Cancer'])\n",
    "cm"
   ]
  },
  {
   "cell_type": "code",
   "execution_count": 13,
   "id": "e5917744",
   "metadata": {},
   "outputs": [
    {
     "name": "stdout",
     "output_type": "stream",
     "text": [
      "              precision    recall  f1-score   support\n",
      "\n",
      "           0       0.99      0.88      0.93      2731\n",
      "           1       0.12      0.66      0.20        65\n",
      "\n",
      "    accuracy                           0.87      2796\n",
      "   macro avg       0.55      0.77      0.56      2796\n",
      "weighted avg       0.97      0.87      0.91      2796\n",
      "\n"
     ]
    }
   ],
   "source": [
    "print(classification_report(y_test, y_pred))"
   ]
  },
  {
   "cell_type": "markdown",
   "id": "45eb86f0",
   "metadata": {},
   "source": [
    "Obtuvimos un `66%` de exhaustividad en identificación de muestras cancerosas con este sencillo detector de anomalías.\n",
    "\n",
    "Veremos la tasa de falsos positivos, que funciona como un \"trade-off\" con la exhaustividad. Esto es, podemos aumentar la exhaustividad aumentando la tasa de falsos positivos.\n"
   ]
  },
  {
   "cell_type": "code",
   "execution_count": 14,
   "id": "a6480268",
   "metadata": {},
   "outputs": [
    {
     "data": {
      "text/plain": [
       "0.6615384615384615"
      ]
     },
     "execution_count": 14,
     "metadata": {},
     "output_type": "execute_result"
    }
   ],
   "source": [
    "recall_score(y_test, y_pred)"
   ]
  },
  {
   "cell_type": "code",
   "execution_count": 15,
   "id": "e00bd4b4",
   "metadata": {},
   "outputs": [
    {
     "data": {
      "text/plain": [
       "0.1208348590259978"
      ]
     },
     "execution_count": 15,
     "metadata": {},
     "output_type": "execute_result"
    }
   ],
   "source": [
    "# Ratio de Falsos Positivos False positive rate FPR\n",
    "fp = cm.loc['Actual=Sano', 'Pred=Cancer']\n",
    "p  = cm.loc['Actual=Sano'].sum()\n",
    "fpr = fp / p\n",
    "fpr"
   ]
  },
  {
   "cell_type": "markdown",
   "id": "94b4f357",
   "metadata": {},
   "source": [
    "La tasa de falsos positivos es de 12%. \n",
    "Vamos a probar diferentes valores del parámetro \"contamination\" para ver cómo se mueven la exhaustividad y la tasa de falsos positivos, y ver si encontramos alguna combinación que nos guste más..."
   ]
  },
  {
   "cell_type": "code",
   "execution_count": 24,
   "id": "a2af3524",
   "metadata": {},
   "outputs": [],
   "source": [
    "def get_results_for_factor(X_train, y_train, X_test, y_test, contamination_factor, verbose=False):\n",
    "    contamination = y_train.value_counts(normalize=True)[1]\n",
    "    C = contamination_factor*contamination\n",
    "    model = IsolationForest(contamination=C, random_state=1)\n",
    "    model.fit(X_train)\n",
    "    y_pred = model.predict(X_test)\n",
    "    y_pred = [1 if y == -1 else 0 for y in y_pred]\n",
    "    \n",
    "    cm = confusion_matrix(y_test, y_pred)\n",
    "    cm = pd.DataFrame(cm, columns=['Pred=Sano', 'Pred=Cancer'], index=['Actual=Sano', 'Actual=Cancer'])\n",
    "    fp = cm.loc['Actual=Sano', 'Pred=Cancer']\n",
    "    p  = cm.loc['Actual=Sano'].sum()\n",
    "    fpr = fp / p\n",
    "    recall = recall_score(y_test, y_pred)\n",
    "    results = {'contamination_factor': contamination_factor, 'recall': round(recall, 2), 'fpr': round(fpr, 2)}\n",
    "    \n",
    "    if verbose:\n",
    "        print(results)\n",
    "        print(classification_report(y_test, y_pred))\n",
    "        display(cm)\n",
    "    return results"
   ]
  },
  {
   "cell_type": "code",
   "execution_count": 25,
   "id": "fc54b963",
   "metadata": {},
   "outputs": [
    {
     "name": "stdout",
     "output_type": "stream",
     "text": [
      "{'contamination_factor': 1, 'recall': 0.22, 'fpr': 0.01}\n",
      "{'contamination_factor': 2, 'recall': 0.32, 'fpr': 0.03}\n",
      "{'contamination_factor': 3, 'recall': 0.49, 'fpr': 0.06}\n",
      "{'contamination_factor': 4, 'recall': 0.54, 'fpr': 0.08}\n",
      "{'contamination_factor': 5, 'recall': 0.62, 'fpr': 0.11}\n",
      "{'contamination_factor': 6, 'recall': 0.72, 'fpr': 0.13}\n",
      "{'contamination_factor': 7, 'recall': 0.8, 'fpr': 0.15}\n",
      "{'contamination_factor': 8, 'recall': 0.82, 'fpr': 0.19}\n",
      "{'contamination_factor': 9, 'recall': 0.82, 'fpr': 0.21}\n",
      "{'contamination_factor': 10, 'recall': 0.83, 'fpr': 0.24}\n",
      "{'contamination_factor': 11, 'recall': 0.86, 'fpr': 0.26}\n",
      "{'contamination_factor': 12, 'recall': 0.91, 'fpr': 0.28}\n",
      "{'contamination_factor': 13, 'recall': 0.92, 'fpr': 0.31}\n",
      "{'contamination_factor': 14, 'recall': 0.92, 'fpr': 0.33}\n",
      "{'contamination_factor': 15, 'recall': 0.92, 'fpr': 0.35}\n",
      "{'contamination_factor': 16, 'recall': 0.92, 'fpr': 0.37}\n",
      "{'contamination_factor': 17, 'recall': 0.92, 'fpr': 0.4}\n",
      "{'contamination_factor': 18, 'recall': 0.92, 'fpr': 0.42}\n",
      "{'contamination_factor': 19, 'recall': 0.94, 'fpr': 0.44}\n"
     ]
    }
   ],
   "source": [
    "all_res = []\n",
    "for factor in range(1, 20):\n",
    "    res = get_results_for_factor(X_train, y_train, X_test, y_test, factor)\n",
    "    print(res)\n",
    "    all_res.append(res)"
   ]
  },
  {
   "cell_type": "markdown",
   "id": "eacf3aed",
   "metadata": {},
   "source": [
    "### 80% de exhaustividad (recall) con solo 15% de falsos positivos!!"
   ]
  },
  {
   "cell_type": "code",
   "execution_count": 27,
   "id": "1ff829e5",
   "metadata": {},
   "outputs": [
    {
     "name": "stdout",
     "output_type": "stream",
     "text": [
      "{'contamination_factor': 7, 'recall': 0.8, 'fpr': 0.15}\n",
      "              precision    recall  f1-score   support\n",
      "\n",
      "           0       0.99      0.85      0.91      2731\n",
      "           1       0.11      0.80      0.19        65\n",
      "\n",
      "    accuracy                           0.84      2796\n",
      "   macro avg       0.55      0.82      0.55      2796\n",
      "weighted avg       0.97      0.84      0.90      2796\n",
      "\n"
     ]
    },
    {
     "data": {
      "text/html": [
       "<div>\n",
       "<style scoped>\n",
       "    .dataframe tbody tr th:only-of-type {\n",
       "        vertical-align: middle;\n",
       "    }\n",
       "\n",
       "    .dataframe tbody tr th {\n",
       "        vertical-align: top;\n",
       "    }\n",
       "\n",
       "    .dataframe thead th {\n",
       "        text-align: right;\n",
       "    }\n",
       "</style>\n",
       "<table border=\"1\" class=\"dataframe\">\n",
       "  <thead>\n",
       "    <tr style=\"text-align: right;\">\n",
       "      <th></th>\n",
       "      <th>Pred=Sano</th>\n",
       "      <th>Pred=Cancer</th>\n",
       "    </tr>\n",
       "  </thead>\n",
       "  <tbody>\n",
       "    <tr>\n",
       "      <th>Actual=Sano</th>\n",
       "      <td>2310</td>\n",
       "      <td>421</td>\n",
       "    </tr>\n",
       "    <tr>\n",
       "      <th>Actual=Cancer</th>\n",
       "      <td>13</td>\n",
       "      <td>52</td>\n",
       "    </tr>\n",
       "  </tbody>\n",
       "</table>\n",
       "</div>"
      ],
      "text/plain": [
       "               Pred=Sano  Pred=Cancer\n",
       "Actual=Sano         2310          421\n",
       "Actual=Cancer         13           52"
      ]
     },
     "metadata": {},
     "output_type": "display_data"
    }
   ],
   "source": [
    "res = get_results_for_factor(X_train, y_train, X_test, y_test, 7, verbose=True)"
   ]
  },
  {
   "cell_type": "markdown",
   "id": "9a25b842",
   "metadata": {},
   "source": [
    "# Ejercicios:\n",
    "\n",
    "1. Importar un nuevo modelo de Detección de Anomalías de sklearn\n",
    "Por ejemplo: \n",
    "```python\n",
    "from sklearn.neighbors import LocalOutlierFactor\n",
    "```\n",
    "\n",
    "[Esta página de la documentación de sklearn](https://scikit-learn.org/stable/auto_examples/miscellaneous/plot_anomaly_comparison.html#sphx-glr-auto-examples-miscellaneous-plot-anomaly-comparison-py) puede ser de utilidad para aquellos que se den maña con el Inglés.\n",
    "\n",
    "2. Hacer un split entrenatimento-validación y ajustar el modelo sobre los datos de entrenamiento. Revisar la documentación de sklearn para entender qué argumentos tiene el modelo.\n",
    "3. Obtener predicciones de anomalías probables para los datos de validación\n",
    "4. Comparar esas predicciones de anomalías con la etiqueta \"es cancer\" para los datos de validación (`y_test`) usando las métricas de clasificación binaria conocidas\n",
    "\n",
    "\n",
    "5. _Chequeo de comprensión: ¿En qué se diferencia lo que estamos haciendo con una clasificación binaria supervisada? ¿Te parece que los modelos de detección de anomalías no supervisados deberían funcionar mejor o peor que un clasificador binario para identificar muestras que corresponden a tumores malignos? ¿Por qué lo pensás?_\n",
    "\n",
    "\n",
    "### Opcional - para el hogar\n",
    "6. Intentar superar los resultados obtenidos por `IsolationForest` previamente (considerando el `Recall` y el `FPR`) con cualquier estrategía (buscar otros modelos de sklearn, argumentos de los constructores, etc).\n"
   ]
  },
  {
   "cell_type": "code",
   "execution_count": 28,
   "id": "ead12827",
   "metadata": {},
   "outputs": [],
   "source": [
    "from sklearn.neighbors import LocalOutlierFactor\n",
    "from sklearn.covariance import EllipticEnvelope"
   ]
  },
  {
   "cell_type": "code",
   "execution_count": 29,
   "id": "b550043e",
   "metadata": {},
   "outputs": [],
   "source": [
    "#model = LocalOutlierFactor(novelty=True, contamination=8*contamination)\n",
    "model = EllipticEnvelope(contamination=8*contamination)"
   ]
  },
  {
   "cell_type": "code",
   "execution_count": 30,
   "id": "05070989",
   "metadata": {},
   "outputs": [
    {
     "data": {
      "text/html": [
       "<style>#sk-container-id-3 {color: black;background-color: white;}#sk-container-id-3 pre{padding: 0;}#sk-container-id-3 div.sk-toggleable {background-color: white;}#sk-container-id-3 label.sk-toggleable__label {cursor: pointer;display: block;width: 100%;margin-bottom: 0;padding: 0.3em;box-sizing: border-box;text-align: center;}#sk-container-id-3 label.sk-toggleable__label-arrow:before {content: \"▸\";float: left;margin-right: 0.25em;color: #696969;}#sk-container-id-3 label.sk-toggleable__label-arrow:hover:before {color: black;}#sk-container-id-3 div.sk-estimator:hover label.sk-toggleable__label-arrow:before {color: black;}#sk-container-id-3 div.sk-toggleable__content {max-height: 0;max-width: 0;overflow: hidden;text-align: left;background-color: #f0f8ff;}#sk-container-id-3 div.sk-toggleable__content pre {margin: 0.2em;color: black;border-radius: 0.25em;background-color: #f0f8ff;}#sk-container-id-3 input.sk-toggleable__control:checked~div.sk-toggleable__content {max-height: 200px;max-width: 100%;overflow: auto;}#sk-container-id-3 input.sk-toggleable__control:checked~label.sk-toggleable__label-arrow:before {content: \"▾\";}#sk-container-id-3 div.sk-estimator input.sk-toggleable__control:checked~label.sk-toggleable__label {background-color: #d4ebff;}#sk-container-id-3 div.sk-label input.sk-toggleable__control:checked~label.sk-toggleable__label {background-color: #d4ebff;}#sk-container-id-3 input.sk-hidden--visually {border: 0;clip: rect(1px 1px 1px 1px);clip: rect(1px, 1px, 1px, 1px);height: 1px;margin: -1px;overflow: hidden;padding: 0;position: absolute;width: 1px;}#sk-container-id-3 div.sk-estimator {font-family: monospace;background-color: #f0f8ff;border: 1px dotted black;border-radius: 0.25em;box-sizing: border-box;margin-bottom: 0.5em;}#sk-container-id-3 div.sk-estimator:hover {background-color: #d4ebff;}#sk-container-id-3 div.sk-parallel-item::after {content: \"\";width: 100%;border-bottom: 1px solid gray;flex-grow: 1;}#sk-container-id-3 div.sk-label:hover label.sk-toggleable__label {background-color: #d4ebff;}#sk-container-id-3 div.sk-serial::before {content: \"\";position: absolute;border-left: 1px solid gray;box-sizing: border-box;top: 0;bottom: 0;left: 50%;z-index: 0;}#sk-container-id-3 div.sk-serial {display: flex;flex-direction: column;align-items: center;background-color: white;padding-right: 0.2em;padding-left: 0.2em;position: relative;}#sk-container-id-3 div.sk-item {position: relative;z-index: 1;}#sk-container-id-3 div.sk-parallel {display: flex;align-items: stretch;justify-content: center;background-color: white;position: relative;}#sk-container-id-3 div.sk-item::before, #sk-container-id-3 div.sk-parallel-item::before {content: \"\";position: absolute;border-left: 1px solid gray;box-sizing: border-box;top: 0;bottom: 0;left: 50%;z-index: -1;}#sk-container-id-3 div.sk-parallel-item {display: flex;flex-direction: column;z-index: 1;position: relative;background-color: white;}#sk-container-id-3 div.sk-parallel-item:first-child::after {align-self: flex-end;width: 50%;}#sk-container-id-3 div.sk-parallel-item:last-child::after {align-self: flex-start;width: 50%;}#sk-container-id-3 div.sk-parallel-item:only-child::after {width: 0;}#sk-container-id-3 div.sk-dashed-wrapped {border: 1px dashed gray;margin: 0 0.4em 0.5em 0.4em;box-sizing: border-box;padding-bottom: 0.4em;background-color: white;}#sk-container-id-3 div.sk-label label {font-family: monospace;font-weight: bold;display: inline-block;line-height: 1.2em;}#sk-container-id-3 div.sk-label-container {text-align: center;}#sk-container-id-3 div.sk-container {/* jupyter's `normalize.less` sets `[hidden] { display: none; }` but bootstrap.min.css set `[hidden] { display: none !important; }` so we also need the `!important` here to be able to override the default hidden behavior on the sphinx rendered scikit-learn.org. See: https://github.com/scikit-learn/scikit-learn/issues/21755 */display: inline-block !important;position: relative;}#sk-container-id-3 div.sk-text-repr-fallback {display: none;}</style><div id=\"sk-container-id-3\" class=\"sk-top-container\"><div class=\"sk-text-repr-fallback\"><pre>EllipticEnvelope(contamination=0.18600214617860975)</pre><b>In a Jupyter environment, please rerun this cell to show the HTML representation or trust the notebook. <br />On GitHub, the HTML representation is unable to render, please try loading this page with nbviewer.org.</b></div><div class=\"sk-container\" hidden><div class=\"sk-item\"><div class=\"sk-estimator sk-toggleable\"><input class=\"sk-toggleable__control sk-hidden--visually\" id=\"sk-estimator-id-3\" type=\"checkbox\" checked><label for=\"sk-estimator-id-3\" class=\"sk-toggleable__label sk-toggleable__label-arrow\">EllipticEnvelope</label><div class=\"sk-toggleable__content\"><pre>EllipticEnvelope(contamination=0.18600214617860975)</pre></div></div></div></div></div>"
      ],
      "text/plain": [
       "EllipticEnvelope(contamination=0.18600214617860975)"
      ]
     },
     "execution_count": 30,
     "metadata": {},
     "output_type": "execute_result"
    }
   ],
   "source": [
    "model.fit(X_train)"
   ]
  },
  {
   "cell_type": "code",
   "execution_count": 31,
   "id": "c388339a",
   "metadata": {},
   "outputs": [],
   "source": [
    "y_pred = model.predict(X_test)"
   ]
  },
  {
   "cell_type": "code",
   "execution_count": 32,
   "id": "34145054",
   "metadata": {},
   "outputs": [
    {
     "name": "stdout",
     "output_type": "stream",
     "text": [
      "{'recall': 0.34, 'fpr': 0.19}\n",
      "              precision    recall  f1-score   support\n",
      "\n",
      "           0       0.98      0.81      0.89      2731\n",
      "           1       0.04      0.34      0.07        65\n",
      "\n",
      "    accuracy                           0.80      2796\n",
      "   macro avg       0.51      0.58      0.48      2796\n",
      "weighted avg       0.96      0.80      0.87      2796\n",
      "\n"
     ]
    },
    {
     "data": {
      "text/html": [
       "<div>\n",
       "<style scoped>\n",
       "    .dataframe tbody tr th:only-of-type {\n",
       "        vertical-align: middle;\n",
       "    }\n",
       "\n",
       "    .dataframe tbody tr th {\n",
       "        vertical-align: top;\n",
       "    }\n",
       "\n",
       "    .dataframe thead th {\n",
       "        text-align: right;\n",
       "    }\n",
       "</style>\n",
       "<table border=\"1\" class=\"dataframe\">\n",
       "  <thead>\n",
       "    <tr style=\"text-align: right;\">\n",
       "      <th></th>\n",
       "      <th>Pred=Sano</th>\n",
       "      <th>Pred=Cancer</th>\n",
       "    </tr>\n",
       "  </thead>\n",
       "  <tbody>\n",
       "    <tr>\n",
       "      <th>Actual=Sano</th>\n",
       "      <td>2225</td>\n",
       "      <td>506</td>\n",
       "    </tr>\n",
       "    <tr>\n",
       "      <th>Actual=Cancer</th>\n",
       "      <td>43</td>\n",
       "      <td>22</td>\n",
       "    </tr>\n",
       "  </tbody>\n",
       "</table>\n",
       "</div>"
      ],
      "text/plain": [
       "               Pred=Sano  Pred=Cancer\n",
       "Actual=Sano         2225          506\n",
       "Actual=Cancer         43           22"
      ]
     },
     "metadata": {},
     "output_type": "display_data"
    }
   ],
   "source": [
    "y_pred_corrected = [1 if y == -1 else 0 for y in y_pred]\n",
    "    \n",
    "cm = confusion_matrix(y_test, y_pred_corrected)\n",
    "cm = pd.DataFrame(cm, columns=['Pred=Sano', 'Pred=Cancer'], index=['Actual=Sano', 'Actual=Cancer'])\n",
    "fp = cm.loc['Actual=Sano', 'Pred=Cancer']\n",
    "p  = cm.loc['Actual=Sano'].sum()\n",
    "fpr = fp / p\n",
    "recall = recall_score(y_test, y_pred_corrected)\n",
    "results = {'recall': round(recall, 2), 'fpr': round(fpr, 2)}\n",
    "print(results)\n",
    "print(classification_report(y_test, y_pred_corrected))\n",
    "display(cm)"
   ]
  }
 ],
 "metadata": {
  "kernelspec": {
   "display_name": "Python 3 (ipykernel)",
   "language": "python",
   "name": "python3"
  },
  "language_info": {
   "codemirror_mode": {
    "name": "ipython",
    "version": 3
   },
   "file_extension": ".py",
   "mimetype": "text/x-python",
   "name": "python",
   "nbconvert_exporter": "python",
   "pygments_lexer": "ipython3",
   "version": "3.8.13"
  }
 },
 "nbformat": 4,
 "nbformat_minor": 5
}
